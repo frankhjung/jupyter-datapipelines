{
 "cells": [
  {
   "cell_type": "markdown",
   "metadata": {
    "colab_type": "text",
    "id": "nwcGjG84KJ6C"
   },
   "source": [
    "# Kaggle Data Pipelines\n"
   ]
  },
  {
   "cell_type": "markdown",
   "metadata": {
    "colab_type": "text",
    "id": "RlXUwJizM-eH"
   },
   "source": [
    "## Day 1 - Dataset Versioning\n",
    "\n",
    "Open Source Tools for versioning datasets:\n",
    "\n",
    "* [Data Version Control(DVC)](https://dvc.org/) - This is a commandline only tool based on [Git](https://git-scm.com/)\n",
    "* [Git Large File Storage](https://git-lfs.github.com/) - replaces large files such as audio samples, videos, datasets, and graphics with text pointers inside Git, while storing the file contents on a remote server like [GitHub.com](https://github.com/).\n",
    "\n",
    "## Versioning a Dataset on Kaggle\n",
    "\n",
    "Example: https://www.kaggle.com/frankhjung/debian-data/settings\n",
    "\n",
    "![Set versioning](https://raw.githubusercontent.com/frankhjung/jupyter-datapipelines/master/images/kaggle-dataset-versioning.png)\n"
   ]
  },
  {
   "cell_type": "markdown",
   "metadata": {
    "colab_type": "text",
    "id": "lmEXijjTNN8O"
   },
   "source": [
    "## References\n",
    "\n",
    "* [A Practical Taxonomy of Reproducibility for Machine\n",
    "Learning Research (PDF)](https://openreview.net/pdf?id=B1eYYK5QgX)"
   ]
  }
 ],
 "metadata": {
  "colab": {
   "name": "kaggle-data-pipelines.ipynb",
   "provenance": [],
   "toc_visible": true,
   "version": "0.3.2"
  },
  "kernelspec": {
   "display_name": "Python 3",
   "language": "python",
   "name": "python3"
  },
  "language_info": {
   "codemirror_mode": {
    "name": "ipython",
    "version": 3
   },
   "file_extension": ".py",
   "mimetype": "text/x-python",
   "name": "python",
   "nbconvert_exporter": "python",
   "pygments_lexer": "ipython3",
   "version": "3.7.2"
  }
 },
 "nbformat": 4,
 "nbformat_minor": 1
}
